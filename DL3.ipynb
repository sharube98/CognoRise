{
  "nbformat": 4,
  "nbformat_minor": 0,
  "metadata": {
    "colab": {
      "provenance": [],
      "authorship_tag": "ABX9TyMfSggUrUkFtuSM3zfzb3Pd",
      "include_colab_link": true
    },
    "kernelspec": {
      "name": "python3",
      "display_name": "Python 3"
    },
    "language_info": {
      "name": "python"
    }
  },
  "cells": [
    {
      "cell_type": "markdown",
      "metadata": {
        "id": "view-in-github",
        "colab_type": "text"
      },
      "source": [
        "<a href=\"https://colab.research.google.com/github/sharube98/CognoRise/blob/main/DL3.ipynb\" target=\"_parent\"><img src=\"https://colab.research.google.com/assets/colab-badge.svg\" alt=\"Open In Colab\"/></a>"
      ]
    },
    {
      "cell_type": "markdown",
      "source": [
        "Cat & Dog classification"
      ],
      "metadata": {
        "id": "cHuXcHeNwLCE"
      }
    },
    {
      "cell_type": "code",
      "execution_count": 1,
      "metadata": {
        "colab": {
          "base_uri": "https://localhost:8080/"
        },
        "id": "-WQha13eFCIX",
        "outputId": "b086ef73-f526-47b2-cfa2-f072417bf396"
      },
      "outputs": [
        {
          "output_type": "stream",
          "name": "stdout",
          "text": [
            "Mounted at /content/drive\n"
          ]
        }
      ],
      "source": [
        "from google.colab import drive\n",
        "drive.mount('/content/drive')"
      ]
    },
    {
      "cell_type": "code",
      "source": [
        "import pandas as pd\n",
        "from sklearn.svm import SVC\n",
        "import numpy as np\n",
        "import matplotlib.pyplot as plt\n",
        "import os\n",
        "from skimage.io import imread\n",
        "from sklearn.model_selection import train_test_split\n",
        "from skimage.transform import resize"
      ],
      "metadata": {
        "id": "BzzmgcmCGtPt"
      },
      "execution_count": 2,
      "outputs": []
    },
    {
      "cell_type": "code",
      "source": [
        "os.listdir('/content/drive/MyDrive/Data')"
      ],
      "metadata": {
        "colab": {
          "base_uri": "https://localhost:8080/"
        },
        "id": "Dm4GNYJBHwmt",
        "outputId": "1c805c3c-76e1-4694-a64f-ae2afcb3bc67"
      },
      "execution_count": 3,
      "outputs": [
        {
          "output_type": "execute_result",
          "data": {
            "text/plain": [
              "['Cat', 'Dog']"
            ]
          },
          "metadata": {},
          "execution_count": 3
        }
      ]
    },
    {
      "cell_type": "code",
      "source": [
        "len(os.listdir(\"/content/drive/MyDrive/Data/Cat\"))"
      ],
      "metadata": {
        "colab": {
          "base_uri": "https://localhost:8080/"
        },
        "id": "p9yhbCV-SfW2",
        "outputId": "a24e1e2d-c278-447c-a721-af5eb6555870"
      },
      "execution_count": 4,
      "outputs": [
        {
          "output_type": "execute_result",
          "data": {
            "text/plain": [
              "85"
            ]
          },
          "metadata": {},
          "execution_count": 4
        }
      ]
    },
    {
      "cell_type": "code",
      "source": [
        "len(os.listdir(\"/content/drive/MyDrive/Data/Dog\"))"
      ],
      "metadata": {
        "id": "sos02P6hL0Sc",
        "colab": {
          "base_uri": "https://localhost:8080/"
        },
        "outputId": "6bd3a5ba-11b3-401c-ac4d-e2289e1a9664"
      },
      "execution_count": 5,
      "outputs": [
        {
          "output_type": "execute_result",
          "data": {
            "text/plain": [
              "68"
            ]
          },
          "metadata": {},
          "execution_count": 5
        }
      ]
    },
    {
      "cell_type": "code",
      "source": [
        "cat=os.path.join(\"/content/drive/MyDrive/Data\",\"Cat\")\n",
        "for i in os.listdir(cat):\n",
        "  print(i)\n"
      ],
      "metadata": {
        "id": "yOdx-1hrTvtu",
        "colab": {
          "base_uri": "https://localhost:8080/"
        },
        "outputId": "f3c91e20-2468-4d5a-8ed5-a5e37150b797"
      },
      "execution_count": 6,
      "outputs": [
        {
          "output_type": "stream",
          "name": "stdout",
          "text": [
            "cat.80.jpg\n",
            "cat.81.jpg\n",
            "cat.84.jpg\n",
            "cat.87.jpg\n",
            "cat.44.jpg\n",
            "cat.99.jpg\n",
            "cat.71.jpg\n",
            "cat.78.jpg\n",
            "cat.96.jpg\n",
            "cat.76.jpg\n",
            "cat.70.jpg\n",
            "cat.79.jpg\n",
            "cat.83.jpg\n",
            "cat.52.jpg\n",
            "cat.64.jpg\n",
            "cat.93.jpg\n",
            "cat.97.jpg\n",
            "cat.86.jpg\n",
            "cat.69.jpg\n",
            "cat.66.jpg\n",
            "cat.90.jpg\n",
            "cat.58.jpg\n",
            "cat.94.jpg\n",
            "cat.95.jpg\n",
            "cat.63.jpg\n",
            "cat.88.jpg\n",
            "cat.60.jpg\n",
            "cat.89.jpg\n",
            "cat.40.jpg\n",
            "cat.39.jpg\n",
            "cat.85.jpg\n",
            "cat.82.jpg\n",
            "cat.72.jpg\n",
            "cat.67.jpg\n",
            "cat.68.jpg\n",
            "cat.92.jpg\n",
            "cat.35.jpg\n",
            "cat.36.jpg\n",
            "cat.41.jpg\n",
            "cat.91.jpg\n",
            "cat.73.jpg\n",
            "cat.65.jpg\n",
            "cat.75.jpg\n",
            "cat.98.jpg\n",
            "cat.77.jpg\n",
            "cat.47.jpg\n",
            "cat.117.jpg\n",
            "cat.38.jpg\n",
            "cat.102.jpg\n",
            "cat.118.jpg\n",
            "cat.49.jpg\n",
            "cat.51.jpg\n",
            "cat.53.jpg\n",
            "cat.61.jpg\n",
            "cat.54.jpg\n",
            "cat.42.jpg\n",
            "cat.101.jpg\n",
            "cat.107.jpg\n",
            "cat.116.jpg\n",
            "cat.105.jpg\n",
            "cat.109.jpg\n",
            "cat.100.jpg\n",
            "cat.119.jpg\n",
            "cat.37.jpg\n",
            "cat.59.jpg\n",
            "cat.55.jpg\n",
            "cat.106.jpg\n",
            "cat.50.jpg\n",
            "cat.57.jpg\n",
            "cat.62.jpg\n",
            "cat.56.jpg\n",
            "cat.114.jpg\n",
            "cat.46.jpg\n",
            "cat.113.jpg\n",
            "cat.110.jpg\n",
            "cat.74.jpg\n",
            "cat.43.jpg\n",
            "cat.45.jpg\n",
            "cat.48.jpg\n",
            "cat.115.jpg\n",
            "cat.112.jpg\n",
            "cat.103.jpg\n",
            "cat.104.jpg\n",
            "cat.111.jpg\n",
            "cat.108.jpg\n"
          ]
        }
      ]
    },
    {
      "cell_type": "code",
      "source": [
        "dog=\"/content/drive/MyDrive/Data/Dog\"\n",
        "for i in os.listdir(dog):\n",
        "  print(i)"
      ],
      "metadata": {
        "id": "m_7qrVPLTv1s",
        "colab": {
          "base_uri": "https://localhost:8080/"
        },
        "outputId": "ec0514f2-204b-400b-eee9-93e8d822b592"
      },
      "execution_count": 7,
      "outputs": [
        {
          "output_type": "stream",
          "name": "stdout",
          "text": [
            "dog.66.jpg\n",
            "dog.7.jpg\n",
            "dog.63.jpg\n",
            "dog.68.jpg\n",
            "dog.8.jpg\n",
            "dog.9.jpg\n",
            "dog.65.jpg\n",
            "dog.59.jpg\n",
            "dog.41.jpg\n",
            "dog.60.jpg\n",
            "dog.53.jpg\n",
            "dog.50.jpg\n",
            "dog.49.jpg\n",
            "dog.36.jpg\n",
            "dog.40.jpg\n",
            "dog.6.jpg\n",
            "dog.61.jpg\n",
            "dog.4.jpg\n",
            "dog.56.jpg\n",
            "dog.29.jpg\n",
            "dog.52.jpg\n",
            "dog.43.jpg\n",
            "dog.64.jpg\n",
            "dog.26.jpg\n",
            "dog.5.jpg\n",
            "dog.67.jpg\n",
            "dog.45.jpg\n",
            "dog.46.jpg\n",
            "dog.39.jpg\n",
            "dog.58.jpg\n",
            "dog.62.jpg\n",
            "dog.57.jpg\n",
            "dog.55.jpg\n",
            "dog.42.jpg\n",
            "dog.35.jpg\n",
            "dog.47.jpg\n",
            "dog.3.jpg\n",
            "dog.38.jpg\n",
            "dog.48.jpg\n",
            "dog.34.jpg\n",
            "dog.44.jpg\n",
            "dog.51.jpg\n",
            "dog.21.jpg\n",
            "dog.1.jpg\n",
            "dog.11.jpg\n",
            "dog.15.jpg\n",
            "dog.14.jpg\n",
            "dog.24.jpg\n",
            "dog.22.jpg\n",
            "dog.30.jpg\n",
            "dog.2.jpg\n",
            "dog.25.jpg\n",
            "dog.54.jpg\n",
            "dog.13.jpg\n",
            "dog.23.jpg\n",
            "dog.27.jpg\n",
            "dog.28.jpg\n",
            "dog.20.jpg\n",
            "dog.32.jpg\n",
            "dog.10.jpg\n",
            "dog.16.jpg\n",
            "dog.33.jpg\n",
            "dog.19.jpg\n",
            "dog.12.jpg\n",
            "dog.37.jpg\n",
            "dog.18.jpg\n",
            "dog.17.jpg\n",
            "dog.31.jpg\n"
          ]
        }
      ]
    },
    {
      "cell_type": "code",
      "source": [
        "flat_data=[] #used for collecting input data\n",
        "target_data=[] #used for collecting output data\n",
        "category=[\"Cat\",\"Dog\"]\n",
        "maindir=\"/content/drive/MyDrive/Data\""
      ],
      "metadata": {
        "id": "cVZQPAWeTv4g"
      },
      "execution_count": 8,
      "outputs": []
    },
    {
      "cell_type": "code",
      "source": [
        "for i in category:\n",
        "    print(\"Loading categories......\")\n",
        "    npath=os.path.join(maindir,i)\n",
        "    for im in os.listdir(npath):\n",
        "      img=imread(os.path.join(npath,im))\n",
        "      img_re=resize(img,(150,150,3))\n",
        "      flat_data.append(img_re.flatten())\n",
        "      target_data.append(category.index(i))\n",
        "    print(i,\"Loaded Completely\")"
      ],
      "metadata": {
        "id": "C4wqoYczTv63",
        "colab": {
          "base_uri": "https://localhost:8080/"
        },
        "outputId": "3878dfbc-9326-46e6-c990-dab30fdad073"
      },
      "execution_count": 9,
      "outputs": [
        {
          "output_type": "stream",
          "name": "stdout",
          "text": [
            "Loading categories......\n",
            "Cat Loaded Completely\n",
            "Loading categories......\n",
            "Dog Loaded Completely\n"
          ]
        }
      ]
    },
    {
      "cell_type": "code",
      "source": [
        "flat=np.array(flat_data)\n",
        "target=np.array(target_data)\n",
        "df=pd.DataFrame(flat)\n",
        "df"
      ],
      "metadata": {
        "id": "KIqxgc1GTv-O",
        "colab": {
          "base_uri": "https://localhost:8080/",
          "height": 443
        },
        "outputId": "f7e10a91-99c3-4bb5-ea5d-294b6fbe1242"
      },
      "execution_count": 10,
      "outputs": [
        {
          "output_type": "execute_result",
          "data": {
            "text/plain": [
              "        0         1         2         3         4         5         6      \\\n",
              "0    0.302291  0.294447  0.212094  0.305703  0.297860  0.215507  0.308719   \n",
              "1    0.058648  0.058648  0.090021  0.063648  0.063648  0.095021  0.050579   \n",
              "2    0.470525  0.337191  0.190404  0.544988  0.411654  0.264867  0.520875   \n",
              "3    0.094118  0.094118  0.086275  0.094118  0.094118  0.086275  0.094118   \n",
              "4    0.310585  0.120677  0.101069  0.307774  0.124558  0.104951  0.297252   \n",
              "..        ...       ...       ...       ...       ...       ...       ...   \n",
              "148  0.301846  0.556748  0.776355  0.299352  0.554254  0.773862  0.296074   \n",
              "149  0.158074  0.204743  0.140362  0.211659  0.151758  0.123442  0.278121   \n",
              "150  0.612096  0.506214  0.470920  0.568027  0.467242  0.437046  0.544847   \n",
              "151  0.929817  0.929817  0.937660  0.935398  0.935398  0.943241  0.939880   \n",
              "152  0.076956  0.131472  0.080685  0.079919  0.126656  0.079574  0.071057   \n",
              "\n",
              "        7         8         9      ...     67490     67491     67492  \\\n",
              "0    0.300876  0.218523  0.308718  ...  0.527509  0.594982  0.579296   \n",
              "1    0.050579  0.081951  0.030930  ...  0.154332  0.153764  0.130191   \n",
              "2    0.387541  0.240753  0.511482  ...  0.222638  0.472381  0.347523   \n",
              "3    0.094118  0.086275  0.094117  ...  0.413832  0.417687  0.416508   \n",
              "4    0.125582  0.106907  0.277894  ...  0.366715  0.255025  0.282688   \n",
              "..        ...       ...       ...  ...       ...       ...       ...   \n",
              "148  0.550453  0.772675  0.300729  ...  0.070725  0.629045  0.249300   \n",
              "149  0.085468  0.097992  0.313758  ...  0.360298  0.438806  0.368338   \n",
              "150  0.447135  0.420694  0.409511  ...  0.361312  0.395262  0.348204   \n",
              "151  0.939880  0.947724  0.939183  ...  0.896221  0.929117  0.925190   \n",
              "152  0.102409  0.059763  0.082444  ...  0.295727  0.221501  0.252996   \n",
              "\n",
              "        67493     67494     67495     67496     67497     67498     67499  \n",
              "0    0.532237  0.591976  0.576290  0.529231  0.588565  0.572879  0.525820  \n",
              "1    0.140375  0.141987  0.117832  0.121939  0.140351  0.106599  0.110030  \n",
              "2    0.264476  0.456843  0.332844  0.250442  0.515859  0.400043  0.315856  \n",
              "3    0.406373  0.387455  0.390984  0.381789  0.370306  0.371310  0.369780  \n",
              "4    0.360225  0.259416  0.282780  0.357647  0.262495  0.283047  0.357647  \n",
              "..        ...       ...       ...       ...       ...       ...       ...  \n",
              "148  0.084594  0.632379  0.250166  0.091354  0.632379  0.249008  0.093671  \n",
              "149  0.360455  0.442407  0.371939  0.364056  0.437485  0.367017  0.359134  \n",
              "150  0.348204  0.372594  0.325535  0.325535  0.386530  0.339471  0.339471  \n",
              "151  0.917028  0.936635  0.932713  0.917103  0.947144  0.943223  0.927537  \n",
              "152  0.304165  0.222034  0.253408  0.304633  0.223267  0.254542  0.305816  \n",
              "\n",
              "[153 rows x 67500 columns]"
            ],
            "text/html": [
              "\n",
              "  <div id=\"df-707455f7-7a6c-4716-8392-544efa1c1669\" class=\"colab-df-container\">\n",
              "    <div>\n",
              "<style scoped>\n",
              "    .dataframe tbody tr th:only-of-type {\n",
              "        vertical-align: middle;\n",
              "    }\n",
              "\n",
              "    .dataframe tbody tr th {\n",
              "        vertical-align: top;\n",
              "    }\n",
              "\n",
              "    .dataframe thead th {\n",
              "        text-align: right;\n",
              "    }\n",
              "</style>\n",
              "<table border=\"1\" class=\"dataframe\">\n",
              "  <thead>\n",
              "    <tr style=\"text-align: right;\">\n",
              "      <th></th>\n",
              "      <th>0</th>\n",
              "      <th>1</th>\n",
              "      <th>2</th>\n",
              "      <th>3</th>\n",
              "      <th>4</th>\n",
              "      <th>5</th>\n",
              "      <th>6</th>\n",
              "      <th>7</th>\n",
              "      <th>8</th>\n",
              "      <th>9</th>\n",
              "      <th>...</th>\n",
              "      <th>67490</th>\n",
              "      <th>67491</th>\n",
              "      <th>67492</th>\n",
              "      <th>67493</th>\n",
              "      <th>67494</th>\n",
              "      <th>67495</th>\n",
              "      <th>67496</th>\n",
              "      <th>67497</th>\n",
              "      <th>67498</th>\n",
              "      <th>67499</th>\n",
              "    </tr>\n",
              "  </thead>\n",
              "  <tbody>\n",
              "    <tr>\n",
              "      <th>0</th>\n",
              "      <td>0.302291</td>\n",
              "      <td>0.294447</td>\n",
              "      <td>0.212094</td>\n",
              "      <td>0.305703</td>\n",
              "      <td>0.297860</td>\n",
              "      <td>0.215507</td>\n",
              "      <td>0.308719</td>\n",
              "      <td>0.300876</td>\n",
              "      <td>0.218523</td>\n",
              "      <td>0.308718</td>\n",
              "      <td>...</td>\n",
              "      <td>0.527509</td>\n",
              "      <td>0.594982</td>\n",
              "      <td>0.579296</td>\n",
              "      <td>0.532237</td>\n",
              "      <td>0.591976</td>\n",
              "      <td>0.576290</td>\n",
              "      <td>0.529231</td>\n",
              "      <td>0.588565</td>\n",
              "      <td>0.572879</td>\n",
              "      <td>0.525820</td>\n",
              "    </tr>\n",
              "    <tr>\n",
              "      <th>1</th>\n",
              "      <td>0.058648</td>\n",
              "      <td>0.058648</td>\n",
              "      <td>0.090021</td>\n",
              "      <td>0.063648</td>\n",
              "      <td>0.063648</td>\n",
              "      <td>0.095021</td>\n",
              "      <td>0.050579</td>\n",
              "      <td>0.050579</td>\n",
              "      <td>0.081951</td>\n",
              "      <td>0.030930</td>\n",
              "      <td>...</td>\n",
              "      <td>0.154332</td>\n",
              "      <td>0.153764</td>\n",
              "      <td>0.130191</td>\n",
              "      <td>0.140375</td>\n",
              "      <td>0.141987</td>\n",
              "      <td>0.117832</td>\n",
              "      <td>0.121939</td>\n",
              "      <td>0.140351</td>\n",
              "      <td>0.106599</td>\n",
              "      <td>0.110030</td>\n",
              "    </tr>\n",
              "    <tr>\n",
              "      <th>2</th>\n",
              "      <td>0.470525</td>\n",
              "      <td>0.337191</td>\n",
              "      <td>0.190404</td>\n",
              "      <td>0.544988</td>\n",
              "      <td>0.411654</td>\n",
              "      <td>0.264867</td>\n",
              "      <td>0.520875</td>\n",
              "      <td>0.387541</td>\n",
              "      <td>0.240753</td>\n",
              "      <td>0.511482</td>\n",
              "      <td>...</td>\n",
              "      <td>0.222638</td>\n",
              "      <td>0.472381</td>\n",
              "      <td>0.347523</td>\n",
              "      <td>0.264476</td>\n",
              "      <td>0.456843</td>\n",
              "      <td>0.332844</td>\n",
              "      <td>0.250442</td>\n",
              "      <td>0.515859</td>\n",
              "      <td>0.400043</td>\n",
              "      <td>0.315856</td>\n",
              "    </tr>\n",
              "    <tr>\n",
              "      <th>3</th>\n",
              "      <td>0.094118</td>\n",
              "      <td>0.094118</td>\n",
              "      <td>0.086275</td>\n",
              "      <td>0.094118</td>\n",
              "      <td>0.094118</td>\n",
              "      <td>0.086275</td>\n",
              "      <td>0.094118</td>\n",
              "      <td>0.094118</td>\n",
              "      <td>0.086275</td>\n",
              "      <td>0.094117</td>\n",
              "      <td>...</td>\n",
              "      <td>0.413832</td>\n",
              "      <td>0.417687</td>\n",
              "      <td>0.416508</td>\n",
              "      <td>0.406373</td>\n",
              "      <td>0.387455</td>\n",
              "      <td>0.390984</td>\n",
              "      <td>0.381789</td>\n",
              "      <td>0.370306</td>\n",
              "      <td>0.371310</td>\n",
              "      <td>0.369780</td>\n",
              "    </tr>\n",
              "    <tr>\n",
              "      <th>4</th>\n",
              "      <td>0.310585</td>\n",
              "      <td>0.120677</td>\n",
              "      <td>0.101069</td>\n",
              "      <td>0.307774</td>\n",
              "      <td>0.124558</td>\n",
              "      <td>0.104951</td>\n",
              "      <td>0.297252</td>\n",
              "      <td>0.125582</td>\n",
              "      <td>0.106907</td>\n",
              "      <td>0.277894</td>\n",
              "      <td>...</td>\n",
              "      <td>0.366715</td>\n",
              "      <td>0.255025</td>\n",
              "      <td>0.282688</td>\n",
              "      <td>0.360225</td>\n",
              "      <td>0.259416</td>\n",
              "      <td>0.282780</td>\n",
              "      <td>0.357647</td>\n",
              "      <td>0.262495</td>\n",
              "      <td>0.283047</td>\n",
              "      <td>0.357647</td>\n",
              "    </tr>\n",
              "    <tr>\n",
              "      <th>...</th>\n",
              "      <td>...</td>\n",
              "      <td>...</td>\n",
              "      <td>...</td>\n",
              "      <td>...</td>\n",
              "      <td>...</td>\n",
              "      <td>...</td>\n",
              "      <td>...</td>\n",
              "      <td>...</td>\n",
              "      <td>...</td>\n",
              "      <td>...</td>\n",
              "      <td>...</td>\n",
              "      <td>...</td>\n",
              "      <td>...</td>\n",
              "      <td>...</td>\n",
              "      <td>...</td>\n",
              "      <td>...</td>\n",
              "      <td>...</td>\n",
              "      <td>...</td>\n",
              "      <td>...</td>\n",
              "      <td>...</td>\n",
              "      <td>...</td>\n",
              "    </tr>\n",
              "    <tr>\n",
              "      <th>148</th>\n",
              "      <td>0.301846</td>\n",
              "      <td>0.556748</td>\n",
              "      <td>0.776355</td>\n",
              "      <td>0.299352</td>\n",
              "      <td>0.554254</td>\n",
              "      <td>0.773862</td>\n",
              "      <td>0.296074</td>\n",
              "      <td>0.550453</td>\n",
              "      <td>0.772675</td>\n",
              "      <td>0.300729</td>\n",
              "      <td>...</td>\n",
              "      <td>0.070725</td>\n",
              "      <td>0.629045</td>\n",
              "      <td>0.249300</td>\n",
              "      <td>0.084594</td>\n",
              "      <td>0.632379</td>\n",
              "      <td>0.250166</td>\n",
              "      <td>0.091354</td>\n",
              "      <td>0.632379</td>\n",
              "      <td>0.249008</td>\n",
              "      <td>0.093671</td>\n",
              "    </tr>\n",
              "    <tr>\n",
              "      <th>149</th>\n",
              "      <td>0.158074</td>\n",
              "      <td>0.204743</td>\n",
              "      <td>0.140362</td>\n",
              "      <td>0.211659</td>\n",
              "      <td>0.151758</td>\n",
              "      <td>0.123442</td>\n",
              "      <td>0.278121</td>\n",
              "      <td>0.085468</td>\n",
              "      <td>0.097992</td>\n",
              "      <td>0.313758</td>\n",
              "      <td>...</td>\n",
              "      <td>0.360298</td>\n",
              "      <td>0.438806</td>\n",
              "      <td>0.368338</td>\n",
              "      <td>0.360455</td>\n",
              "      <td>0.442407</td>\n",
              "      <td>0.371939</td>\n",
              "      <td>0.364056</td>\n",
              "      <td>0.437485</td>\n",
              "      <td>0.367017</td>\n",
              "      <td>0.359134</td>\n",
              "    </tr>\n",
              "    <tr>\n",
              "      <th>150</th>\n",
              "      <td>0.612096</td>\n",
              "      <td>0.506214</td>\n",
              "      <td>0.470920</td>\n",
              "      <td>0.568027</td>\n",
              "      <td>0.467242</td>\n",
              "      <td>0.437046</td>\n",
              "      <td>0.544847</td>\n",
              "      <td>0.447135</td>\n",
              "      <td>0.420694</td>\n",
              "      <td>0.409511</td>\n",
              "      <td>...</td>\n",
              "      <td>0.361312</td>\n",
              "      <td>0.395262</td>\n",
              "      <td>0.348204</td>\n",
              "      <td>0.348204</td>\n",
              "      <td>0.372594</td>\n",
              "      <td>0.325535</td>\n",
              "      <td>0.325535</td>\n",
              "      <td>0.386530</td>\n",
              "      <td>0.339471</td>\n",
              "      <td>0.339471</td>\n",
              "    </tr>\n",
              "    <tr>\n",
              "      <th>151</th>\n",
              "      <td>0.929817</td>\n",
              "      <td>0.929817</td>\n",
              "      <td>0.937660</td>\n",
              "      <td>0.935398</td>\n",
              "      <td>0.935398</td>\n",
              "      <td>0.943241</td>\n",
              "      <td>0.939880</td>\n",
              "      <td>0.939880</td>\n",
              "      <td>0.947724</td>\n",
              "      <td>0.939183</td>\n",
              "      <td>...</td>\n",
              "      <td>0.896221</td>\n",
              "      <td>0.929117</td>\n",
              "      <td>0.925190</td>\n",
              "      <td>0.917028</td>\n",
              "      <td>0.936635</td>\n",
              "      <td>0.932713</td>\n",
              "      <td>0.917103</td>\n",
              "      <td>0.947144</td>\n",
              "      <td>0.943223</td>\n",
              "      <td>0.927537</td>\n",
              "    </tr>\n",
              "    <tr>\n",
              "      <th>152</th>\n",
              "      <td>0.076956</td>\n",
              "      <td>0.131472</td>\n",
              "      <td>0.080685</td>\n",
              "      <td>0.079919</td>\n",
              "      <td>0.126656</td>\n",
              "      <td>0.079574</td>\n",
              "      <td>0.071057</td>\n",
              "      <td>0.102409</td>\n",
              "      <td>0.059763</td>\n",
              "      <td>0.082444</td>\n",
              "      <td>...</td>\n",
              "      <td>0.295727</td>\n",
              "      <td>0.221501</td>\n",
              "      <td>0.252996</td>\n",
              "      <td>0.304165</td>\n",
              "      <td>0.222034</td>\n",
              "      <td>0.253408</td>\n",
              "      <td>0.304633</td>\n",
              "      <td>0.223267</td>\n",
              "      <td>0.254542</td>\n",
              "      <td>0.305816</td>\n",
              "    </tr>\n",
              "  </tbody>\n",
              "</table>\n",
              "<p>153 rows × 67500 columns</p>\n",
              "</div>\n",
              "    <div class=\"colab-df-buttons\">\n",
              "\n",
              "  <div class=\"colab-df-container\">\n",
              "    <button class=\"colab-df-convert\" onclick=\"convertToInteractive('df-707455f7-7a6c-4716-8392-544efa1c1669')\"\n",
              "            title=\"Convert this dataframe to an interactive table.\"\n",
              "            style=\"display:none;\">\n",
              "\n",
              "  <svg xmlns=\"http://www.w3.org/2000/svg\" height=\"24px\" viewBox=\"0 -960 960 960\">\n",
              "    <path d=\"M120-120v-720h720v720H120Zm60-500h600v-160H180v160Zm220 220h160v-160H400v160Zm0 220h160v-160H400v160ZM180-400h160v-160H180v160Zm440 0h160v-160H620v160ZM180-180h160v-160H180v160Zm440 0h160v-160H620v160Z\"/>\n",
              "  </svg>\n",
              "    </button>\n",
              "\n",
              "  <style>\n",
              "    .colab-df-container {\n",
              "      display:flex;\n",
              "      gap: 12px;\n",
              "    }\n",
              "\n",
              "    .colab-df-convert {\n",
              "      background-color: #E8F0FE;\n",
              "      border: none;\n",
              "      border-radius: 50%;\n",
              "      cursor: pointer;\n",
              "      display: none;\n",
              "      fill: #1967D2;\n",
              "      height: 32px;\n",
              "      padding: 0 0 0 0;\n",
              "      width: 32px;\n",
              "    }\n",
              "\n",
              "    .colab-df-convert:hover {\n",
              "      background-color: #E2EBFA;\n",
              "      box-shadow: 0px 1px 2px rgba(60, 64, 67, 0.3), 0px 1px 3px 1px rgba(60, 64, 67, 0.15);\n",
              "      fill: #174EA6;\n",
              "    }\n",
              "\n",
              "    .colab-df-buttons div {\n",
              "      margin-bottom: 4px;\n",
              "    }\n",
              "\n",
              "    [theme=dark] .colab-df-convert {\n",
              "      background-color: #3B4455;\n",
              "      fill: #D2E3FC;\n",
              "    }\n",
              "\n",
              "    [theme=dark] .colab-df-convert:hover {\n",
              "      background-color: #434B5C;\n",
              "      box-shadow: 0px 1px 3px 1px rgba(0, 0, 0, 0.15);\n",
              "      filter: drop-shadow(0px 1px 2px rgba(0, 0, 0, 0.3));\n",
              "      fill: #FFFFFF;\n",
              "    }\n",
              "  </style>\n",
              "\n",
              "    <script>\n",
              "      const buttonEl =\n",
              "        document.querySelector('#df-707455f7-7a6c-4716-8392-544efa1c1669 button.colab-df-convert');\n",
              "      buttonEl.style.display =\n",
              "        google.colab.kernel.accessAllowed ? 'block' : 'none';\n",
              "\n",
              "      async function convertToInteractive(key) {\n",
              "        const element = document.querySelector('#df-707455f7-7a6c-4716-8392-544efa1c1669');\n",
              "        const dataTable =\n",
              "          await google.colab.kernel.invokeFunction('convertToInteractive',\n",
              "                                                    [key], {});\n",
              "        if (!dataTable) return;\n",
              "\n",
              "        const docLinkHtml = 'Like what you see? Visit the ' +\n",
              "          '<a target=\"_blank\" href=https://colab.research.google.com/notebooks/data_table.ipynb>data table notebook</a>'\n",
              "          + ' to learn more about interactive tables.';\n",
              "        element.innerHTML = '';\n",
              "        dataTable['output_type'] = 'display_data';\n",
              "        await google.colab.output.renderOutput(dataTable, element);\n",
              "        const docLink = document.createElement('div');\n",
              "        docLink.innerHTML = docLinkHtml;\n",
              "        element.appendChild(docLink);\n",
              "      }\n",
              "    </script>\n",
              "  </div>\n",
              "\n",
              "\n",
              "<div id=\"df-0ce50379-351a-448f-a7b3-68b6ce988fa9\">\n",
              "  <button class=\"colab-df-quickchart\" onclick=\"quickchart('df-0ce50379-351a-448f-a7b3-68b6ce988fa9')\"\n",
              "            title=\"Suggest charts\"\n",
              "            style=\"display:none;\">\n",
              "\n",
              "<svg xmlns=\"http://www.w3.org/2000/svg\" height=\"24px\"viewBox=\"0 0 24 24\"\n",
              "     width=\"24px\">\n",
              "    <g>\n",
              "        <path d=\"M19 3H5c-1.1 0-2 .9-2 2v14c0 1.1.9 2 2 2h14c1.1 0 2-.9 2-2V5c0-1.1-.9-2-2-2zM9 17H7v-7h2v7zm4 0h-2V7h2v10zm4 0h-2v-4h2v4z\"/>\n",
              "    </g>\n",
              "</svg>\n",
              "  </button>\n",
              "\n",
              "<style>\n",
              "  .colab-df-quickchart {\n",
              "      --bg-color: #E8F0FE;\n",
              "      --fill-color: #1967D2;\n",
              "      --hover-bg-color: #E2EBFA;\n",
              "      --hover-fill-color: #174EA6;\n",
              "      --disabled-fill-color: #AAA;\n",
              "      --disabled-bg-color: #DDD;\n",
              "  }\n",
              "\n",
              "  [theme=dark] .colab-df-quickchart {\n",
              "      --bg-color: #3B4455;\n",
              "      --fill-color: #D2E3FC;\n",
              "      --hover-bg-color: #434B5C;\n",
              "      --hover-fill-color: #FFFFFF;\n",
              "      --disabled-bg-color: #3B4455;\n",
              "      --disabled-fill-color: #666;\n",
              "  }\n",
              "\n",
              "  .colab-df-quickchart {\n",
              "    background-color: var(--bg-color);\n",
              "    border: none;\n",
              "    border-radius: 50%;\n",
              "    cursor: pointer;\n",
              "    display: none;\n",
              "    fill: var(--fill-color);\n",
              "    height: 32px;\n",
              "    padding: 0;\n",
              "    width: 32px;\n",
              "  }\n",
              "\n",
              "  .colab-df-quickchart:hover {\n",
              "    background-color: var(--hover-bg-color);\n",
              "    box-shadow: 0 1px 2px rgba(60, 64, 67, 0.3), 0 1px 3px 1px rgba(60, 64, 67, 0.15);\n",
              "    fill: var(--button-hover-fill-color);\n",
              "  }\n",
              "\n",
              "  .colab-df-quickchart-complete:disabled,\n",
              "  .colab-df-quickchart-complete:disabled:hover {\n",
              "    background-color: var(--disabled-bg-color);\n",
              "    fill: var(--disabled-fill-color);\n",
              "    box-shadow: none;\n",
              "  }\n",
              "\n",
              "  .colab-df-spinner {\n",
              "    border: 2px solid var(--fill-color);\n",
              "    border-color: transparent;\n",
              "    border-bottom-color: var(--fill-color);\n",
              "    animation:\n",
              "      spin 1s steps(1) infinite;\n",
              "  }\n",
              "\n",
              "  @keyframes spin {\n",
              "    0% {\n",
              "      border-color: transparent;\n",
              "      border-bottom-color: var(--fill-color);\n",
              "      border-left-color: var(--fill-color);\n",
              "    }\n",
              "    20% {\n",
              "      border-color: transparent;\n",
              "      border-left-color: var(--fill-color);\n",
              "      border-top-color: var(--fill-color);\n",
              "    }\n",
              "    30% {\n",
              "      border-color: transparent;\n",
              "      border-left-color: var(--fill-color);\n",
              "      border-top-color: var(--fill-color);\n",
              "      border-right-color: var(--fill-color);\n",
              "    }\n",
              "    40% {\n",
              "      border-color: transparent;\n",
              "      border-right-color: var(--fill-color);\n",
              "      border-top-color: var(--fill-color);\n",
              "    }\n",
              "    60% {\n",
              "      border-color: transparent;\n",
              "      border-right-color: var(--fill-color);\n",
              "    }\n",
              "    80% {\n",
              "      border-color: transparent;\n",
              "      border-right-color: var(--fill-color);\n",
              "      border-bottom-color: var(--fill-color);\n",
              "    }\n",
              "    90% {\n",
              "      border-color: transparent;\n",
              "      border-bottom-color: var(--fill-color);\n",
              "    }\n",
              "  }\n",
              "</style>\n",
              "\n",
              "  <script>\n",
              "    async function quickchart(key) {\n",
              "      const quickchartButtonEl =\n",
              "        document.querySelector('#' + key + ' button');\n",
              "      quickchartButtonEl.disabled = true;  // To prevent multiple clicks.\n",
              "      quickchartButtonEl.classList.add('colab-df-spinner');\n",
              "      try {\n",
              "        const charts = await google.colab.kernel.invokeFunction(\n",
              "            'suggestCharts', [key], {});\n",
              "      } catch (error) {\n",
              "        console.error('Error during call to suggestCharts:', error);\n",
              "      }\n",
              "      quickchartButtonEl.classList.remove('colab-df-spinner');\n",
              "      quickchartButtonEl.classList.add('colab-df-quickchart-complete');\n",
              "    }\n",
              "    (() => {\n",
              "      let quickchartButtonEl =\n",
              "        document.querySelector('#df-0ce50379-351a-448f-a7b3-68b6ce988fa9 button');\n",
              "      quickchartButtonEl.style.display =\n",
              "        google.colab.kernel.accessAllowed ? 'block' : 'none';\n",
              "    })();\n",
              "  </script>\n",
              "</div>\n",
              "\n",
              "  <div id=\"id_cbf90760-a41d-4a72-964a-05196146a55c\">\n",
              "    <style>\n",
              "      .colab-df-generate {\n",
              "        background-color: #E8F0FE;\n",
              "        border: none;\n",
              "        border-radius: 50%;\n",
              "        cursor: pointer;\n",
              "        display: none;\n",
              "        fill: #1967D2;\n",
              "        height: 32px;\n",
              "        padding: 0 0 0 0;\n",
              "        width: 32px;\n",
              "      }\n",
              "\n",
              "      .colab-df-generate:hover {\n",
              "        background-color: #E2EBFA;\n",
              "        box-shadow: 0px 1px 2px rgba(60, 64, 67, 0.3), 0px 1px 3px 1px rgba(60, 64, 67, 0.15);\n",
              "        fill: #174EA6;\n",
              "      }\n",
              "\n",
              "      [theme=dark] .colab-df-generate {\n",
              "        background-color: #3B4455;\n",
              "        fill: #D2E3FC;\n",
              "      }\n",
              "\n",
              "      [theme=dark] .colab-df-generate:hover {\n",
              "        background-color: #434B5C;\n",
              "        box-shadow: 0px 1px 3px 1px rgba(0, 0, 0, 0.15);\n",
              "        filter: drop-shadow(0px 1px 2px rgba(0, 0, 0, 0.3));\n",
              "        fill: #FFFFFF;\n",
              "      }\n",
              "    </style>\n",
              "    <button class=\"colab-df-generate\" onclick=\"generateWithVariable('df')\"\n",
              "            title=\"Generate code using this dataframe.\"\n",
              "            style=\"display:none;\">\n",
              "\n",
              "  <svg xmlns=\"http://www.w3.org/2000/svg\" height=\"24px\"viewBox=\"0 0 24 24\"\n",
              "       width=\"24px\">\n",
              "    <path d=\"M7,19H8.4L18.45,9,17,7.55,7,17.6ZM5,21V16.75L18.45,3.32a2,2,0,0,1,2.83,0l1.4,1.43a1.91,1.91,0,0,1,.58,1.4,1.91,1.91,0,0,1-.58,1.4L9.25,21ZM18.45,9,17,7.55Zm-12,3A5.31,5.31,0,0,0,4.9,8.1,5.31,5.31,0,0,0,1,6.5,5.31,5.31,0,0,0,4.9,4.9,5.31,5.31,0,0,0,6.5,1,5.31,5.31,0,0,0,8.1,4.9,5.31,5.31,0,0,0,12,6.5,5.46,5.46,0,0,0,6.5,12Z\"/>\n",
              "  </svg>\n",
              "    </button>\n",
              "    <script>\n",
              "      (() => {\n",
              "      const buttonEl =\n",
              "        document.querySelector('#id_cbf90760-a41d-4a72-964a-05196146a55c button.colab-df-generate');\n",
              "      buttonEl.style.display =\n",
              "        google.colab.kernel.accessAllowed ? 'block' : 'none';\n",
              "\n",
              "      buttonEl.onclick = () => {\n",
              "        google.colab.notebook.generateWithVariable('df');\n",
              "      }\n",
              "      })();\n",
              "    </script>\n",
              "  </div>\n",
              "\n",
              "    </div>\n",
              "  </div>\n"
            ],
            "application/vnd.google.colaboratory.intrinsic+json": {
              "type": "dataframe",
              "variable_name": "df"
            }
          },
          "metadata": {},
          "execution_count": 10
        }
      ]
    },
    {
      "cell_type": "code",
      "source": [
        "df.shape\n"
      ],
      "metadata": {
        "id": "-A7LFxcAM4MR",
        "colab": {
          "base_uri": "https://localhost:8080/"
        },
        "outputId": "22b8ee25-f52c-48d4-8c36-0c3d3df47f59"
      },
      "execution_count": 11,
      "outputs": [
        {
          "output_type": "execute_result",
          "data": {
            "text/plain": [
              "(153, 67500)"
            ]
          },
          "metadata": {},
          "execution_count": 11
        }
      ]
    },
    {
      "cell_type": "code",
      "source": [
        "df['target']=target_data\n",
        "df.shape\n"
      ],
      "metadata": {
        "id": "HaYGcN5jNHPc",
        "colab": {
          "base_uri": "https://localhost:8080/"
        },
        "outputId": "ea9ad425-e3f8-4322-e8e6-37bb20cbe976"
      },
      "execution_count": 12,
      "outputs": [
        {
          "output_type": "execute_result",
          "data": {
            "text/plain": [
              "(153, 67501)"
            ]
          },
          "metadata": {},
          "execution_count": 12
        }
      ]
    },
    {
      "cell_type": "code",
      "source": [
        "x=df.iloc[:,:-1]\n",
        "y=df.iloc[:,-1]\n",
        "x_train,x_test,y_train,y_test=train_test_split(x,y,test_size=0.20,random_state=42)\n"
      ],
      "metadata": {
        "id": "tyrPk-wiNRcB"
      },
      "execution_count": 17,
      "outputs": []
    },
    {
      "cell_type": "code",
      "source": [
        "from sklearn.preprocessing import StandardScaler\n",
        "sc=StandardScaler()\n",
        "sc.fit(x_train)\n",
        "x_train=sc.transform(x_train)\n",
        "x_test=sc.transform(x_test)\n",
        "x_train\n"
      ],
      "metadata": {
        "colab": {
          "base_uri": "https://localhost:8080/"
        },
        "id": "BGEkTJDYugRo",
        "outputId": "8c3951ea-50d7-41e1-9776-ed6559a3b024"
      },
      "execution_count": 18,
      "outputs": [
        {
          "output_type": "execute_result",
          "data": {
            "text/plain": [
              "array([[ 0.03158756,  0.43533593,  0.42686597, ..., -0.34716834,\n",
              "        -0.27080823, -0.19778225],\n",
              "       [-0.62687082, -0.7708458 , -1.03036122, ...,  0.60371078,\n",
              "         0.63090196,  0.67073207],\n",
              "       [-0.67955536, -0.8301269 , -0.84548865, ...,  1.42963889,\n",
              "         1.39013901,  1.09325476],\n",
              "       ...,\n",
              "       [ 0.72412135,  0.3791121 ,  0.29777841, ..., -0.45555205,\n",
              "        -0.5359646 , -0.44097182],\n",
              "       [ 0.14723246,  0.16965362,  0.51078226, ..., -0.49449755,\n",
              "        -0.49386085, -0.21286503],\n",
              "       [ 0.62341642,  0.54761559,  0.49504977, ..., -1.19523459,\n",
              "        -1.0546645 , -0.87725858]])"
            ]
          },
          "metadata": {},
          "execution_count": 18
        }
      ]
    },
    {
      "cell_type": "code",
      "source": [
        "from sklearn.svm import SVC\n",
        "model=SVC()\n",
        "model.fit(x_train,y_train)\n",
        "y_pred=model.predict(x_test)\n",
        "y_pred"
      ],
      "metadata": {
        "id": "fbOR-qEFNRel",
        "colab": {
          "base_uri": "https://localhost:8080/"
        },
        "outputId": "49972c36-febd-483f-e170-c99e45d0b1d6"
      },
      "execution_count": 14,
      "outputs": [
        {
          "output_type": "execute_result",
          "data": {
            "text/plain": [
              "array([1, 1, 0, 0, 0, 1, 0, 1, 0, 0, 0, 0, 0, 0, 0, 0, 0, 0, 0, 0, 0, 1,\n",
              "       0, 0, 0, 1, 0, 1, 0, 0, 0])"
            ]
          },
          "metadata": {},
          "execution_count": 14
        }
      ]
    },
    {
      "cell_type": "code",
      "source": [
        "from sklearn.metrics import confusion_matrix,accuracy_score\n",
        "print(\"Accuracy_score is\",accuracy_score(y_test,y_pred))"
      ],
      "metadata": {
        "id": "ZT32K-ZdNRhM",
        "colab": {
          "base_uri": "https://localhost:8080/"
        },
        "outputId": "098ae0e6-98a8-43d5-e778-2ccbdd50f736"
      },
      "execution_count": 15,
      "outputs": [
        {
          "output_type": "stream",
          "name": "stdout",
          "text": [
            "Accuracy_score is 0.6774193548387096\n"
          ]
        }
      ]
    },
    {
      "cell_type": "markdown",
      "source": [
        "Prediction:this image is cat or not"
      ],
      "metadata": {
        "id": "zDwQYW47vFYH"
      }
    },
    {
      "cell_type": "code",
      "source": [
        "path1='/content/drive/MyDrive/Data/Dog/dog.1.jpg'\n",
        "img=imread(path1)\n",
        "img=resize(img,(150,150,3)).flatten().reshape(1,-1)\n",
        "model.predict(img)"
      ],
      "metadata": {
        "colab": {
          "base_uri": "https://localhost:8080/"
        },
        "id": "yIU9b8w8vLgq",
        "outputId": "53421b8a-5dcd-46a0-c01a-40f2cf1447b7"
      },
      "execution_count": 20,
      "outputs": [
        {
          "output_type": "execute_result",
          "data": {
            "text/plain": [
              "array([1])"
            ]
          },
          "metadata": {},
          "execution_count": 20
        }
      ]
    }
  ]
}